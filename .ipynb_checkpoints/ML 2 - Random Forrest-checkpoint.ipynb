{
 "cells": [
  {
   "cell_type": "code",
   "execution_count": 1,
   "id": "e4e63b5b",
   "metadata": {},
   "outputs": [
    {
     "ename": "FileNotFoundError",
     "evalue": "[Errno 2] No such file or directory: 'sprint3_transactions.csv'",
     "output_type": "error",
     "traceback": [
      "\u001b[0;31m---------------------------------------------------------------------------\u001b[0m",
      "\u001b[0;31mFileNotFoundError\u001b[0m                         Traceback (most recent call last)",
      "Cell \u001b[0;32mIn[1], line 5\u001b[0m\n\u001b[1;32m      3\u001b[0m \u001b[38;5;66;03m#Load the training data\u001b[39;00m\n\u001b[1;32m      4\u001b[0m training_data_path \u001b[38;5;241m=\u001b[39m \u001b[38;5;124m'\u001b[39m\u001b[38;5;124msprint3_transactions.csv\u001b[39m\u001b[38;5;124m'\u001b[39m\n\u001b[0;32m----> 5\u001b[0m train_df \u001b[38;5;241m=\u001b[39m pd\u001b[38;5;241m.\u001b[39mread_csv(training_data_path)\n\u001b[1;32m      7\u001b[0m \u001b[38;5;66;03m#Preview the datafframe\u001b[39;00m\n\u001b[1;32m      8\u001b[0m train_df\u001b[38;5;241m.\u001b[39mhead(), train_df\u001b[38;5;241m.\u001b[39minfo()\n",
      "File \u001b[0;32m~/anaconda3/lib/python3.11/site-packages/pandas/io/parsers/readers.py:912\u001b[0m, in \u001b[0;36mread_csv\u001b[0;34m(filepath_or_buffer, sep, delimiter, header, names, index_col, usecols, dtype, engine, converters, true_values, false_values, skipinitialspace, skiprows, skipfooter, nrows, na_values, keep_default_na, na_filter, verbose, skip_blank_lines, parse_dates, infer_datetime_format, keep_date_col, date_parser, date_format, dayfirst, cache_dates, iterator, chunksize, compression, thousands, decimal, lineterminator, quotechar, quoting, doublequote, escapechar, comment, encoding, encoding_errors, dialect, on_bad_lines, delim_whitespace, low_memory, memory_map, float_precision, storage_options, dtype_backend)\u001b[0m\n\u001b[1;32m    899\u001b[0m kwds_defaults \u001b[38;5;241m=\u001b[39m _refine_defaults_read(\n\u001b[1;32m    900\u001b[0m     dialect,\n\u001b[1;32m    901\u001b[0m     delimiter,\n\u001b[0;32m   (...)\u001b[0m\n\u001b[1;32m    908\u001b[0m     dtype_backend\u001b[38;5;241m=\u001b[39mdtype_backend,\n\u001b[1;32m    909\u001b[0m )\n\u001b[1;32m    910\u001b[0m kwds\u001b[38;5;241m.\u001b[39mupdate(kwds_defaults)\n\u001b[0;32m--> 912\u001b[0m \u001b[38;5;28;01mreturn\u001b[39;00m _read(filepath_or_buffer, kwds)\n",
      "File \u001b[0;32m~/anaconda3/lib/python3.11/site-packages/pandas/io/parsers/readers.py:577\u001b[0m, in \u001b[0;36m_read\u001b[0;34m(filepath_or_buffer, kwds)\u001b[0m\n\u001b[1;32m    574\u001b[0m _validate_names(kwds\u001b[38;5;241m.\u001b[39mget(\u001b[38;5;124m\"\u001b[39m\u001b[38;5;124mnames\u001b[39m\u001b[38;5;124m\"\u001b[39m, \u001b[38;5;28;01mNone\u001b[39;00m))\n\u001b[1;32m    576\u001b[0m \u001b[38;5;66;03m# Create the parser.\u001b[39;00m\n\u001b[0;32m--> 577\u001b[0m parser \u001b[38;5;241m=\u001b[39m TextFileReader(filepath_or_buffer, \u001b[38;5;241m*\u001b[39m\u001b[38;5;241m*\u001b[39mkwds)\n\u001b[1;32m    579\u001b[0m \u001b[38;5;28;01mif\u001b[39;00m chunksize \u001b[38;5;129;01mor\u001b[39;00m iterator:\n\u001b[1;32m    580\u001b[0m     \u001b[38;5;28;01mreturn\u001b[39;00m parser\n",
      "File \u001b[0;32m~/anaconda3/lib/python3.11/site-packages/pandas/io/parsers/readers.py:1407\u001b[0m, in \u001b[0;36mTextFileReader.__init__\u001b[0;34m(self, f, engine, **kwds)\u001b[0m\n\u001b[1;32m   1404\u001b[0m     \u001b[38;5;28mself\u001b[39m\u001b[38;5;241m.\u001b[39moptions[\u001b[38;5;124m\"\u001b[39m\u001b[38;5;124mhas_index_names\u001b[39m\u001b[38;5;124m\"\u001b[39m] \u001b[38;5;241m=\u001b[39m kwds[\u001b[38;5;124m\"\u001b[39m\u001b[38;5;124mhas_index_names\u001b[39m\u001b[38;5;124m\"\u001b[39m]\n\u001b[1;32m   1406\u001b[0m \u001b[38;5;28mself\u001b[39m\u001b[38;5;241m.\u001b[39mhandles: IOHandles \u001b[38;5;241m|\u001b[39m \u001b[38;5;28;01mNone\u001b[39;00m \u001b[38;5;241m=\u001b[39m \u001b[38;5;28;01mNone\u001b[39;00m\n\u001b[0;32m-> 1407\u001b[0m \u001b[38;5;28mself\u001b[39m\u001b[38;5;241m.\u001b[39m_engine \u001b[38;5;241m=\u001b[39m \u001b[38;5;28mself\u001b[39m\u001b[38;5;241m.\u001b[39m_make_engine(f, \u001b[38;5;28mself\u001b[39m\u001b[38;5;241m.\u001b[39mengine)\n",
      "File \u001b[0;32m~/anaconda3/lib/python3.11/site-packages/pandas/io/parsers/readers.py:1661\u001b[0m, in \u001b[0;36mTextFileReader._make_engine\u001b[0;34m(self, f, engine)\u001b[0m\n\u001b[1;32m   1659\u001b[0m     \u001b[38;5;28;01mif\u001b[39;00m \u001b[38;5;124m\"\u001b[39m\u001b[38;5;124mb\u001b[39m\u001b[38;5;124m\"\u001b[39m \u001b[38;5;129;01mnot\u001b[39;00m \u001b[38;5;129;01min\u001b[39;00m mode:\n\u001b[1;32m   1660\u001b[0m         mode \u001b[38;5;241m+\u001b[39m\u001b[38;5;241m=\u001b[39m \u001b[38;5;124m\"\u001b[39m\u001b[38;5;124mb\u001b[39m\u001b[38;5;124m\"\u001b[39m\n\u001b[0;32m-> 1661\u001b[0m \u001b[38;5;28mself\u001b[39m\u001b[38;5;241m.\u001b[39mhandles \u001b[38;5;241m=\u001b[39m get_handle(\n\u001b[1;32m   1662\u001b[0m     f,\n\u001b[1;32m   1663\u001b[0m     mode,\n\u001b[1;32m   1664\u001b[0m     encoding\u001b[38;5;241m=\u001b[39m\u001b[38;5;28mself\u001b[39m\u001b[38;5;241m.\u001b[39moptions\u001b[38;5;241m.\u001b[39mget(\u001b[38;5;124m\"\u001b[39m\u001b[38;5;124mencoding\u001b[39m\u001b[38;5;124m\"\u001b[39m, \u001b[38;5;28;01mNone\u001b[39;00m),\n\u001b[1;32m   1665\u001b[0m     compression\u001b[38;5;241m=\u001b[39m\u001b[38;5;28mself\u001b[39m\u001b[38;5;241m.\u001b[39moptions\u001b[38;5;241m.\u001b[39mget(\u001b[38;5;124m\"\u001b[39m\u001b[38;5;124mcompression\u001b[39m\u001b[38;5;124m\"\u001b[39m, \u001b[38;5;28;01mNone\u001b[39;00m),\n\u001b[1;32m   1666\u001b[0m     memory_map\u001b[38;5;241m=\u001b[39m\u001b[38;5;28mself\u001b[39m\u001b[38;5;241m.\u001b[39moptions\u001b[38;5;241m.\u001b[39mget(\u001b[38;5;124m\"\u001b[39m\u001b[38;5;124mmemory_map\u001b[39m\u001b[38;5;124m\"\u001b[39m, \u001b[38;5;28;01mFalse\u001b[39;00m),\n\u001b[1;32m   1667\u001b[0m     is_text\u001b[38;5;241m=\u001b[39mis_text,\n\u001b[1;32m   1668\u001b[0m     errors\u001b[38;5;241m=\u001b[39m\u001b[38;5;28mself\u001b[39m\u001b[38;5;241m.\u001b[39moptions\u001b[38;5;241m.\u001b[39mget(\u001b[38;5;124m\"\u001b[39m\u001b[38;5;124mencoding_errors\u001b[39m\u001b[38;5;124m\"\u001b[39m, \u001b[38;5;124m\"\u001b[39m\u001b[38;5;124mstrict\u001b[39m\u001b[38;5;124m\"\u001b[39m),\n\u001b[1;32m   1669\u001b[0m     storage_options\u001b[38;5;241m=\u001b[39m\u001b[38;5;28mself\u001b[39m\u001b[38;5;241m.\u001b[39moptions\u001b[38;5;241m.\u001b[39mget(\u001b[38;5;124m\"\u001b[39m\u001b[38;5;124mstorage_options\u001b[39m\u001b[38;5;124m\"\u001b[39m, \u001b[38;5;28;01mNone\u001b[39;00m),\n\u001b[1;32m   1670\u001b[0m )\n\u001b[1;32m   1671\u001b[0m \u001b[38;5;28;01massert\u001b[39;00m \u001b[38;5;28mself\u001b[39m\u001b[38;5;241m.\u001b[39mhandles \u001b[38;5;129;01mis\u001b[39;00m \u001b[38;5;129;01mnot\u001b[39;00m \u001b[38;5;28;01mNone\u001b[39;00m\n\u001b[1;32m   1672\u001b[0m f \u001b[38;5;241m=\u001b[39m \u001b[38;5;28mself\u001b[39m\u001b[38;5;241m.\u001b[39mhandles\u001b[38;5;241m.\u001b[39mhandle\n",
      "File \u001b[0;32m~/anaconda3/lib/python3.11/site-packages/pandas/io/common.py:859\u001b[0m, in \u001b[0;36mget_handle\u001b[0;34m(path_or_buf, mode, encoding, compression, memory_map, is_text, errors, storage_options)\u001b[0m\n\u001b[1;32m    854\u001b[0m \u001b[38;5;28;01melif\u001b[39;00m \u001b[38;5;28misinstance\u001b[39m(handle, \u001b[38;5;28mstr\u001b[39m):\n\u001b[1;32m    855\u001b[0m     \u001b[38;5;66;03m# Check whether the filename is to be opened in binary mode.\u001b[39;00m\n\u001b[1;32m    856\u001b[0m     \u001b[38;5;66;03m# Binary mode does not support 'encoding' and 'newline'.\u001b[39;00m\n\u001b[1;32m    857\u001b[0m     \u001b[38;5;28;01mif\u001b[39;00m ioargs\u001b[38;5;241m.\u001b[39mencoding \u001b[38;5;129;01mand\u001b[39;00m \u001b[38;5;124m\"\u001b[39m\u001b[38;5;124mb\u001b[39m\u001b[38;5;124m\"\u001b[39m \u001b[38;5;129;01mnot\u001b[39;00m \u001b[38;5;129;01min\u001b[39;00m ioargs\u001b[38;5;241m.\u001b[39mmode:\n\u001b[1;32m    858\u001b[0m         \u001b[38;5;66;03m# Encoding\u001b[39;00m\n\u001b[0;32m--> 859\u001b[0m         handle \u001b[38;5;241m=\u001b[39m \u001b[38;5;28mopen\u001b[39m(\n\u001b[1;32m    860\u001b[0m             handle,\n\u001b[1;32m    861\u001b[0m             ioargs\u001b[38;5;241m.\u001b[39mmode,\n\u001b[1;32m    862\u001b[0m             encoding\u001b[38;5;241m=\u001b[39mioargs\u001b[38;5;241m.\u001b[39mencoding,\n\u001b[1;32m    863\u001b[0m             errors\u001b[38;5;241m=\u001b[39merrors,\n\u001b[1;32m    864\u001b[0m             newline\u001b[38;5;241m=\u001b[39m\u001b[38;5;124m\"\u001b[39m\u001b[38;5;124m\"\u001b[39m,\n\u001b[1;32m    865\u001b[0m         )\n\u001b[1;32m    866\u001b[0m     \u001b[38;5;28;01melse\u001b[39;00m:\n\u001b[1;32m    867\u001b[0m         \u001b[38;5;66;03m# Binary mode\u001b[39;00m\n\u001b[1;32m    868\u001b[0m         handle \u001b[38;5;241m=\u001b[39m \u001b[38;5;28mopen\u001b[39m(handle, ioargs\u001b[38;5;241m.\u001b[39mmode)\n",
      "\u001b[0;31mFileNotFoundError\u001b[0m: [Errno 2] No such file or directory: 'sprint3_transactions.csv'"
     ]
    }
   ],
   "source": [
    "import pandas as pd\n",
    "\n",
    "#Load the training data\n",
    "training_data_path = 'sprint3_transactions.csv'\n",
    "train_df = pd.read_csv(training_data_path)\n",
    "\n",
    "#Preview the datafframe\n",
    "train_df.head(), train_df.info()"
   ]
  },
  {
   "cell_type": "code",
   "execution_count": null,
   "id": "4fe941ce",
   "metadata": {},
   "outputs": [],
   "source": [
    "from imblearn.over_sampling import SMOTE\n",
    "from sklearn.model_selection import train_test_split\n",
    "from sklearn.preprocessing import StandardScaler\n",
    "from sklearn.impute import SimpleImputer\n",
    "from sklearn.ensemble import RandomForestClassifier\n",
    "from sklearn.metrics import confusion_matrix, classification_report\n",
    "import pandas as pd\n",
    "import numpy as np\n",
    "\n",
    "\n",
    "\n",
    "#Put in missing values with the mean of each column\n",
    "imputer = SimpleImputer(strategy='mean')\n",
    "train_df_imputed = pd.DataFrame(imputer.fit_transform(train_df.drop(columns=['competition_id', 'Class'])),\n",
    "                                columns=train_df.drop(columns=['competition_id', 'Class']).columns)\n",
    "\n",
    "#Normalize the amount column\n",
    "scaler = StandardScaler()\n",
    "train_df_imputed['NormalizedAmount'] = scaler.fit_transform(train_df_imputed[['Amount']])\n",
    "train_df_imputed.drop(columns=['Amount'], inplace=True)\n",
    "\n",
    "#Add the class column back\n",
    "train_df_imputed['Class'] = train_df['Class']\n",
    "\n",
    "#Split the data into features and target\n",
    "X = train_df_imputed.drop(columns=['Class'])\n",
    "y = train_df_imputed['Class']\n",
    "\n",
    "#Split into training and validation sets\n",
    "X_train, X_val, y_train, y_val = train_test_split(X, y, test_size=0.2, random_state=42, stratify=y)\n",
    "\n",
    "#Apply SMOTE cause of class imbalance\n",
    "smote = SMOTE(random_state=42)\n",
    "X_train_smote, y_train_smote = smote.fit_resample(X_train, y_train)\n",
    "\n",
    "#Train the Random Forest\n",
    "rf_classifier = RandomForestClassifier(n_estimators=200, random_state=42, n_jobs=-1, class_weight='balanced')\n",
    "rf_classifier.fit(X_train_smote, y_train_smote)\n",
    "\n",
    "#Predict class probabilities rather than classes directly\n",
    "y_prob = rf_classifier.predict_proba(X_val)[:, 1] \n",
    "\n",
    "#Choose a new threshold\n",
    "new_threshold = 0.6  \n",
    "\n",
    "#Apply the new threshold to determine class predictions\n",
    "y_pred_adjusted = (y_prob >= new_threshold).astype(int)\n",
    "\n",
    "#Evaluate the model \n",
    "confusion_mat_adjusted = confusion_matrix(y_val, y_pred_adjusted)\n",
    "classification_rep_adjusted = classification_report(y_val, y_pred_adjusted)\n",
    "\n",
    "print(\"Confusion Matrix (Adjusted):\")\n",
    "print(confusion_mat_adjusted)\n",
    "print(\"\\nClassification Report (Adjusted):\")\n",
    "print(classification_rep_adjusted)"
   ]
  },
  {
   "cell_type": "code",
   "execution_count": null,
   "id": "aa44a19a",
   "metadata": {},
   "outputs": [],
   "source": [
    "#SMOTE and Class Weight balance\n",
    "\n",
    "#Just SMOTE\n",
    "#array([[46572,    11],\n",
    "       #[   20,   555]])\n",
    "\n",
    "#Stratify=y\n",
    "#array([[46576,     7],\n",
    "       #[   56,   519]])"
   ]
  },
  {
   "cell_type": "code",
   "execution_count": null,
   "id": "efeb0a43",
   "metadata": {},
   "outputs": [],
   "source": [
    "#Evaluate the model\n",
    "confusion_mat = confusion_matrix(y_val, y_pred)\n",
    "classification_rep = classification_report(y_val, y_pred)\n",
    "\n",
    "confusion_mat"
   ]
  },
  {
   "cell_type": "code",
   "execution_count": null,
   "id": "558c959d",
   "metadata": {},
   "outputs": [],
   "source": [
    "#SMOTE and Classw weight balanced\n",
    "\n",
    "#Just SMOTE\n",
    "#Class\n",
    "#0    0.987811\n",
    "#1    0.012189\n",
    "\n",
    "#stratify=y\n",
    "#Class\n",
    "#0    0.987811\n",
    "#1    0.012189"
   ]
  },
  {
   "cell_type": "code",
   "execution_count": null,
   "id": "736eb090",
   "metadata": {},
   "outputs": [],
   "source": [
    "#Show me the proportion of each class in the target\n",
    "class_distribution = y.value_counts(normalize=True)  \n",
    "print(class_distribution)"
   ]
  },
  {
   "cell_type": "code",
   "execution_count": null,
   "id": "f1d1380e",
   "metadata": {},
   "outputs": [],
   "source": [
    "import matplotlib.pyplot as plt\n",
    "import seaborn as sns\n",
    "\n",
    "plt.figure(figsize=(10, 6))\n",
    "sns.barplot(x=class_distribution.index, y=class_distribution.values)\n",
    "plt.title('Class Distribution')\n",
    "plt.xlabel('Class')\n",
    "plt.ylabel('Frequency')\n",
    "plt.show()"
   ]
  },
  {
   "cell_type": "code",
   "execution_count": null,
   "id": "9471c0c1",
   "metadata": {},
   "outputs": [],
   "source": [
    "#Create a dictionary with precision, recall and f1 score\n",
    "report = classification_report(y_val, y_pred, output_dict=True)"
   ]
  },
  {
   "cell_type": "code",
   "execution_count": null,
   "id": "1e921e3c",
   "metadata": {},
   "outputs": [],
   "source": [
    "#Convert dictionary to DataFrame\n",
    "report_df = pd.DataFrame(report).transpose()"
   ]
  },
  {
   "cell_type": "code",
   "execution_count": null,
   "id": "fc994f9e",
   "metadata": {},
   "outputs": [],
   "source": [
    "report_df "
   ]
  },
  {
   "cell_type": "code",
   "execution_count": null,
   "id": "b7b4aebf",
   "metadata": {},
   "outputs": [],
   "source": [
    "#threshold adjustment to 0.6\n",
    "\n",
    "\n",
    "#threshold adjustment to 0.4 and random trees 200\n",
    "#precision\trecall\tf1-score\tsupport\n",
    "#0\t0.999592\t0.999764\t0.999678\t46583.000000\n",
    "#1\t0.980600\t0.966957\t0.973730\t575.000000\n",
    "#accuracy\t0.999364\t0.999364\t0.999364\t0.999364\n",
    "#macro avg\t0.990096\t0.983360\t0.986704\t47158.000000\n",
    "#weighted avg\t0.999361\t0.999364\t0.999362\t47158.000000\n",
    "\n",
    "#SMOTE NORMALISE AMOUNT AND BALANCE CLASS WEIGHT, but 200 trees\n",
    "#TOO SMALL A DIFFERENCE TO MATTER\n",
    "\n",
    "#SMOTE NORMALISE AMOUNT AND BALANCE CLASS WEIGHT, but 100 trees\n",
    "\n",
    "#precision\trecall\tf1-score\tsupport\n",
    "#0\t0.999571\t0.999764\t0.999667\t46583.000000\n",
    "#1\t0.980565\t0.965217\t0.972831\t575.000000\n",
    "#accuracy\t0.999343\t0.999343\t0.999343\t0.999343\n",
    "#macro avg\t0.990068\t0.982491\t0.986249\t47158.000000\n",
    "#weighted avg\t0.999339\t0.999343\t0.999340\t47158.000000"
   ]
  },
  {
   "cell_type": "code",
   "execution_count": null,
   "id": "520ea9a1",
   "metadata": {},
   "outputs": [],
   "source": [
    "#GBC results:\n",
    "\n",
    "#Confusion Matrix:\n",
    "#[[46083   414]\n",
    "# [  963 45706]]\n",
    "\n",
    "#Classification Report:\n",
    "\n",
    "              #precision    recall  f1-score   support\n",
    "\n",
    "           #0       0.98      0.99      0.99     46497\n",
    "           #9       0.99      0.98      0.99     46669"
   ]
  },
  {
   "cell_type": "code",
   "execution_count": null,
   "id": "db309e7e",
   "metadata": {},
   "outputs": [],
   "source": [
    "# For the validation set: Save features, actual classes, and predictions\n",
    "validation_results = X_val.copy()\n",
    "validation_results['ActualClass'] = y_val\n",
    "validation_results['PredictedClass'] = y_pred\n",
    "\n",
    "# Save the validation results to a CSV file\n",
    "validation_results.to_csv('RFvalidation_results.csv', index=False)\n",
    "\n",
    "training_results = X_train.copy()\n",
    "training_results['ActualClass'] = y_train\n",
    "\n",
    "\n",
    "training_results.to_csv('RFtraining_results.csv', index=False)\n"
   ]
  },
  {
   "cell_type": "code",
   "execution_count": null,
   "id": "65f67376",
   "metadata": {},
   "outputs": [],
   "source": [
    "prediction_data_path = 'sprint3_predictions.csv'\n",
    "predict_df = pd.read_csv(prediction_data_path)\n",
    "\n",
    "#Save the 'competition_id' column if it's going to be dropped during processing\n",
    "if 'competition_id' in predict_df.columns:\n",
    "    competition_id = predict_df['competition_id'].copy()\n",
    "\n",
    "#Drop unwanted columns for prediction\n",
    "predict_df.drop(columns=['competition_id', 'Predicted_class'], errors='ignore', inplace=True)\n",
    "\n",
    "if 'Amount' in predict_df.columns:\n",
    "    predict_df['NormalizedAmount'] = scaler.transform(predict_df[['Amount']])\n",
    "    predict_df.drop(columns=['Amount'], inplace=True)\n",
    "\n",
    "#Predict the classes using the trained model\n",
    "y_pred = rf_classifier.predict(predict_df)\n",
    "\n",
    "#Create a new DataFrame for the output to include 'competition_id' and 'predictions'\n",
    "output_df = pd.DataFrame({\n",
    "    'competition_id': competition_id,\n",
    "    'Predicted_class': y_pred\n",
    "})\n",
    "\n",
    "#Save the Dataframe \n",
    "#output_csv_path = '2RF_predictions_with_classes.csv'\n",
    "#output_df.to_csv(output_csv_path, index=False)"
   ]
  },
  {
   "cell_type": "code",
   "execution_count": null,
   "id": "599970ab",
   "metadata": {},
   "outputs": [],
   "source": []
  }
 ],
 "metadata": {
  "kernelspec": {
   "display_name": "Python 3 (ipykernel)",
   "language": "python",
   "name": "python3"
  },
  "language_info": {
   "codemirror_mode": {
    "name": "ipython",
    "version": 3
   },
   "file_extension": ".py",
   "mimetype": "text/x-python",
   "name": "python",
   "nbconvert_exporter": "python",
   "pygments_lexer": "ipython3",
   "version": "3.11.5"
  }
 },
 "nbformat": 4,
 "nbformat_minor": 5
}
